{
  "nbformat": 4,
  "nbformat_minor": 0,
  "metadata": {
    "colab": {
      "provenance": [],
      "gpuType": "T4"
    },
    "kernelspec": {
      "name": "python3",
      "display_name": "Python 3"
    },
    "language_info": {
      "name": "python"
    },
    "accelerator": "GPU"
  },
  "cells": [
    {
      "cell_type": "code",
      "execution_count": null,
      "metadata": {
        "id": "JeIkvk-UgEM7"
      },
      "outputs": [],
      "source": [
        "class abc:\n",
        "  def io(self):\n",
        "    n = int(input())\n",
        "    return n"
      ]
    },
    {
      "cell_type": "code",
      "source": [
        "def markscond():\n",
        "  marks = int(input(\"Enter your marks: \"))\n",
        "  if marks >= 90:\n",
        "    print(\"Grade A\")\n",
        "  elif marks >= 80:\n",
        "    print(\"Grade B\")\n",
        "  elif marks >= 70:\n",
        "    print(\"Grade C\")\n",
        "  elif marks >= 60:\n",
        "    print(\"Grade D\")\n",
        "  else:\n",
        "    print(\"Fail\")"
      ],
      "metadata": {
        "id": "l32N8t05hrDy"
      },
      "execution_count": null,
      "outputs": []
    },
    {
      "cell_type": "code",
      "source": [
        "m = markscond()\n",
        "# print(m)"
      ],
      "metadata": {
        "colab": {
          "base_uri": "https://localhost:8080/"
        },
        "id": "AGba6wHXj-cA",
        "outputId": "eae91126-b7b4-44aa-e6ed-a69706b3a629"
      },
      "execution_count": null,
      "outputs": [
        {
          "output_type": "stream",
          "name": "stdout",
          "text": [
            "Enter your marks: 56\n",
            "Fail\n"
          ]
        }
      ]
    },
    {
      "cell_type": "markdown",
      "source": [
        "__****__\n",
        "\n",
        "__****__\n",
        "\n",
        "__****__\n",
        "\n",
        "__****__"
      ],
      "metadata": {
        "id": "0FSJMbWYy8Er"
      }
    },
    {
      "cell_type": "code",
      "source": [
        "for i in range(0,4):\n",
        "  for j in range(0,4):\n",
        "    print(\"*\", end=\"\")\n",
        "  print()"
      ],
      "metadata": {
        "id": "TyAnvgv1kH0I",
        "colab": {
          "base_uri": "https://localhost:8080/"
        },
        "outputId": "c4771e43-c01d-4ee9-9608-16df701410d2"
      },
      "execution_count": null,
      "outputs": [
        {
          "output_type": "stream",
          "name": "stdout",
          "text": [
            "****\n",
            "****\n",
            "****\n",
            "****\n"
          ]
        }
      ]
    },
    {
      "cell_type": "markdown",
      "source": [
        "__*__\n",
        "\n",
        "__**__\n",
        "\n",
        "__***__\n",
        "\n",
        "__****__\n",
        "\n",
        "__*****__"
      ],
      "metadata": {
        "id": "SBkw4MIYLd6O"
      }
    },
    {
      "cell_type": "code",
      "source": [
        "for i in range(0, 5):\n",
        "  for j in range(0, i+1):\n",
        "    print(\"*\", end=\"\")\n",
        "  print()"
      ],
      "metadata": {
        "colab": {
          "base_uri": "https://localhost:8080/"
        },
        "id": "Mq2FXy8Eznx1",
        "outputId": "3582a7c6-ee0f-45a2-eb7f-45214a079127"
      },
      "execution_count": null,
      "outputs": [
        {
          "output_type": "stream",
          "name": "stdout",
          "text": [
            "*\n",
            "**\n",
            "***\n",
            "****\n",
            "*****\n"
          ]
        }
      ]
    },
    {
      "cell_type": "markdown",
      "source": [
        "1\n",
        "\n",
        "12\n",
        "\n",
        "123\n",
        "\n",
        "1234\n",
        "\n",
        "12345\n"
      ],
      "metadata": {
        "id": "tM1veG6LUC2U"
      }
    },
    {
      "cell_type": "code",
      "source": [
        "for i in range(1,6):\n",
        "  for j in range(1,i+1):\n",
        "    print(j,end=\"\")\n",
        "  print()"
      ],
      "metadata": {
        "id": "oX8cW_k9MLD-",
        "colab": {
          "base_uri": "https://localhost:8080/"
        },
        "outputId": "d6652bc9-7907-444d-c200-ac69a858656d"
      },
      "execution_count": null,
      "outputs": [
        {
          "output_type": "stream",
          "name": "stdout",
          "text": [
            "1\n",
            "12\n",
            "123\n",
            "1234\n",
            "12345\n"
          ]
        }
      ]
    },
    {
      "cell_type": "markdown",
      "source": [
        "1\n",
        "\n",
        "22\n",
        "\n",
        "333\n",
        "\n",
        "4444\n",
        "\n",
        "55555\n"
      ],
      "metadata": {
        "id": "dtNGuQuQU0V8"
      }
    },
    {
      "cell_type": "code",
      "source": [
        "for i in range(1,6):\n",
        "  for j in range(1,i+1):\n",
        "    print(i,end=\"\")\n",
        "  print()"
      ],
      "metadata": {
        "colab": {
          "base_uri": "https://localhost:8080/"
        },
        "id": "Ted0wI6JURSF",
        "outputId": "8e153325-05ee-438b-847c-d294ba7aa620"
      },
      "execution_count": null,
      "outputs": [
        {
          "output_type": "stream",
          "name": "stdout",
          "text": [
            "1\n",
            "22\n",
            "333\n",
            "4444\n",
            "55555\n"
          ]
        }
      ]
    },
    {
      "cell_type": "markdown",
      "source": [
        "__*****__\n",
        "\n",
        "__****__\n",
        "\n",
        "__***__\n",
        "\n",
        "__**__\n",
        "\n",
        "__*__"
      ],
      "metadata": {
        "id": "JjxxOesaMuH7"
      }
    },
    {
      "cell_type": "code",
      "source": [
        "n = int(input(\"Enter the number: \"))\n",
        "for i in range(0,n):\n",
        "  for j in range(1,n-i+1):\n",
        "    print(\"*\",end=\"\")\n",
        "  print()"
      ],
      "metadata": {
        "colab": {
          "base_uri": "https://localhost:8080/"
        },
        "id": "lYpNemJ2WQjz",
        "outputId": "e31e12a0-5eaa-4a76-8485-fc550ce41dbb"
      },
      "execution_count": null,
      "outputs": [
        {
          "output_type": "stream",
          "name": "stdout",
          "text": [
            "Enter the number: 5\n",
            "*****\n",
            "****\n",
            "***\n",
            "**\n",
            "*\n"
          ]
        }
      ]
    },
    {
      "cell_type": "code",
      "source": [
        "n = int(input(\"Enter the number: \"))\n",
        "for i in range(5,0,-1):\n",
        "  print(\"*\" * i)\n",
        "print()"
      ],
      "metadata": {
        "colab": {
          "base_uri": "https://localhost:8080/"
        },
        "id": "HdmCpB-aNIWN",
        "outputId": "aff5b4ac-f159-4753-b598-ce41de70afbf"
      },
      "execution_count": null,
      "outputs": [
        {
          "output_type": "stream",
          "name": "stdout",
          "text": [
            "Enter the number: 5\n",
            "*****\n",
            "****\n",
            "***\n",
            "**\n",
            "*\n",
            "\n"
          ]
        }
      ]
    },
    {
      "cell_type": "markdown",
      "source": [
        "12345\n",
        "\n",
        "1234\n",
        "\n",
        "123\n",
        "\n",
        "12\n",
        "\n",
        "1"
      ],
      "metadata": {
        "id": "O2fko0osemzP"
      }
    },
    {
      "cell_type": "code",
      "source": [
        "n = int(input(\"Enter the number: \"))\n",
        "for i in range(0,n):\n",
        "  for j in range(1,n-i+1):\n",
        "    print(j,end=\"\")\n",
        "  print()"
      ],
      "metadata": {
        "id": "TSLUvGlgQ09V",
        "colab": {
          "base_uri": "https://localhost:8080/"
        },
        "outputId": "198b7d41-f141-435b-ee18-38381fa943cc"
      },
      "execution_count": null,
      "outputs": [
        {
          "output_type": "stream",
          "name": "stdout",
          "text": [
            "Enter the number: 5\n",
            "12345\n",
            "1234\n",
            "123\n",
            "12\n",
            "1\n"
          ]
        }
      ]
    },
    {
      "cell_type": "markdown",
      "source": [
        "      *    \n",
        "     ***   \n",
        "    *****\n",
        "   *******\n",
        "  *********"
      ],
      "metadata": {
        "id": "joV6DAWgl_KB"
      }
    },
    {
      "cell_type": "code",
      "source": [
        "n = int(input(\"Enter a number: \"))\n",
        "for i in range(0,n):\n",
        "    spaces = n - i - 1\n",
        "    stars = 2 * i + 1\n",
        "    print(' ' * spaces + '*' * stars)\n"
      ],
      "metadata": {
        "colab": {
          "base_uri": "https://localhost:8080/"
        },
        "id": "BIjLEtcJe3b8",
        "outputId": "f3493a12-5a91-4467-b9bf-e3d147b26b13"
      },
      "execution_count": null,
      "outputs": [
        {
          "output_type": "stream",
          "name": "stdout",
          "text": [
            "Enter a number: 5\n",
            "    *\n",
            "   ***\n",
            "  *****\n",
            " *******\n",
            "*********\n"
          ]
        }
      ]
    },
    {
      "cell_type": "code",
      "source": [
        "def p1():\n",
        "  n = int(input(\"Enter a number: \"))\n",
        "  for i in range(0,n):\n",
        "      # Printing spaces\n",
        "      for j in range(0,n - i - 1):\n",
        "          print(' ', end='')\n",
        "      # Printing stars\n",
        "      for j in range(0,2 * i + 1):\n",
        "          print('*', end='')\n",
        "      for j in range(0,n - i - 1):\n",
        "          print(' ', end='')\n",
        "      # Moving to next line\n",
        "      print()\n"
      ],
      "metadata": {
        "id": "yYisVFzioOOa"
      },
      "execution_count": null,
      "outputs": []
    },
    {
      "cell_type": "code",
      "source": [
        "a = p1()"
      ],
      "metadata": {
        "colab": {
          "base_uri": "https://localhost:8080/"
        },
        "id": "ffKuTQkzGurQ",
        "outputId": "1908798c-922a-4f3d-d4c5-3911947a4b11"
      },
      "execution_count": null,
      "outputs": [
        {
          "output_type": "stream",
          "name": "stdout",
          "text": [
            "Enter a number: 5\n",
            "    *    \n",
            "   ***   \n",
            "  *****  \n",
            " ******* \n",
            "*********\n"
          ]
        }
      ]
    },
    {
      "cell_type": "markdown",
      "source": [
        "Inverted stars pattern of the above pattern"
      ],
      "metadata": {
        "id": "RFwlN8rCsbF-"
      }
    },
    {
      "cell_type": "code",
      "source": [
        "def p2():\n",
        "  n = int(input(\"Enter a number: \"))\n",
        "  for i in range(0,n):\n",
        "      # Printing spaces\n",
        "      for j in range(0,i):\n",
        "          print(' ', end='')\n",
        "      # Printing stars\n",
        "      for j in range(0,2 * n - (2 * i + 1)):\n",
        "          print('*', end='')\n",
        "      for j in range(0,n - i - 1):\n",
        "          print(' ', end='')\n",
        "      # Moving to next line\n",
        "      print()\n"
      ],
      "metadata": {
        "id": "FpDTHnM7qVL5"
      },
      "execution_count": null,
      "outputs": []
    },
    {
      "cell_type": "code",
      "source": [
        "b = p2()"
      ],
      "metadata": {
        "id": "GxxXYetVwJIm",
        "colab": {
          "base_uri": "https://localhost:8080/"
        },
        "outputId": "3465116f-aea1-4c1d-9b6d-5715699ed537"
      },
      "execution_count": null,
      "outputs": [
        {
          "output_type": "stream",
          "name": "stdout",
          "text": [
            "Enter a number: 5\n",
            "*********    \n",
            " *******   \n",
            "  *****  \n",
            "   *** \n",
            "    *\n"
          ]
        }
      ]
    },
    {
      "cell_type": "code",
      "source": [
        "n = int(input(\"Enter the number of rows you want to print: \"))\n",
        "for i in range(0,n):\n",
        "  if i % 2 == 0:\n",
        "    start = 1\n",
        "  else:\n",
        "    start = 0\n",
        "  for j in range(0,i+1):\n",
        "    print(start,end=\" \")\n",
        "    start = 1 - start\n",
        "  print()"
      ],
      "metadata": {
        "id": "_s6jpI67IM1v",
        "colab": {
          "base_uri": "https://localhost:8080/"
        },
        "outputId": "643a8212-cbd2-4d29-bd1f-23ede3f474b4"
      },
      "execution_count": null,
      "outputs": [
        {
          "output_type": "stream",
          "name": "stdout",
          "text": [
            "Enter the number of rows you want to print: 5\n",
            "1 \n",
            "0 1 \n",
            "1 0 1 \n",
            "0 1 0 1 \n",
            "1 0 1 0 1 \n"
          ]
        }
      ]
    },
    {
      "cell_type": "code",
      "source": [
        "num = 1\n",
        "n = int(input(\"Enter the number of rows you want to print: \"))\n",
        "for i in range(0,n):\n",
        "  for j in range(0,i+1):\n",
        "    print(num, end=' ')\n",
        "    num = num + 1\n",
        "  print()"
      ],
      "metadata": {
        "colab": {
          "base_uri": "https://localhost:8080/"
        },
        "id": "qhOqpPKJXpFc",
        "outputId": "4e43d40b-8ee0-4862-cccb-756f66038707"
      },
      "execution_count": null,
      "outputs": [
        {
          "output_type": "stream",
          "name": "stdout",
          "text": [
            "Enter the number of rows you want to print: 5\n",
            "1 \n",
            "2 3 \n",
            "4 5 6 \n",
            "7 8 9 10 \n",
            "11 12 13 14 15 \n"
          ]
        }
      ]
    },
    {
      "cell_type": "code",
      "source": [],
      "metadata": {
        "id": "2UKFpxo0eDMt"
      },
      "execution_count": null,
      "outputs": []
    }
  ]
}